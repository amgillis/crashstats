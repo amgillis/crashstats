{
 "cells": [
  {
   "cell_type": "markdown",
   "id": "d7f30d41",
   "metadata": {},
   "source": [
    "# CrashStats Modeling\n",
    "\n",
    "CrashStats data is provided to users by VicRoads for the purpose of supplying information about road crashes in Victoria for educational purposes.\n",
    "\n",
    "The data provided allows users to analyse Victorian fatal and injury crash data based on time, location, conditions, crash type, road user type, object hit etc.\n",
    "\n",
    "The data files are as follows:\n",
    "\n",
    "Tables\n",
    "- accident (basic accident details, time, severity, location)\n",
    "- person (person based details, age, sex etc)\n",
    "- vehicle (vehicle based data, vehicle type, make etc)\n",
    "- accident_event (sequence of events e.g. left road, rollover, caught fire)\n",
    "- road_surface_cond (whether road was wet, dry, icy etc)\n",
    "- atmospheric_cond (rain, winds etc)\n",
    "- sub_dca (detailed codes describing accident)\n",
    "- accident_node (master location table - NB subset of accident table)\n",
    "- Node Table with Lat/Long references"
   ]
  },
  {
   "cell_type": "markdown",
   "id": "fa97dd5a",
   "metadata": {},
   "source": [
    "In this notebook we will build a benchmark model aimed at predicting accident severity"
   ]
  },
  {
   "cell_type": "markdown",
   "id": "87c9ee4f",
   "metadata": {},
   "source": [
    "Importing necessary packages"
   ]
  },
  {
   "cell_type": "code",
   "execution_count": 486,
   "id": "20997724",
   "metadata": {},
   "outputs": [],
   "source": [
    "import os\n",
    "import sys\n",
    "import glob\n",
    "import re\n",
    "from joblib import dump, load\n",
    "\n",
    "import numpy as np\n",
    "import pandas as pd\n",
    "import scipy.stats as st\n",
    "from statsmodels.miscmodels.ordinal_model import OrderedModel\n",
    "\n",
    "from sklearn.preprocessing import OneHotEncoder, OrdinalEncoder, MultiLabelBinarizer, StandardScaler\n",
    "from sklearn.decomposition import PCA\n",
    "from sklearn.linear_model import LogisticRegression\n",
    "from sklearn.model_selection import train_test_split, GridSearchCV, RandomizedSearchCV\n",
    "from sklearn.metrics import accuracy_score, f1_score, roc_curve, roc_auc_score, auc, \\\n",
    "classification_report, confusion_matrix, average_precision_score, precision_recall_curve\n",
    "\n",
    "import matplotlib as mpl\n",
    "import matplotlib.pyplot as plt\n",
    "import seaborn as sns\n",
    "import ipywidgets"
   ]
  },
  {
   "cell_type": "markdown",
   "id": "825f7fb0",
   "metadata": {},
   "source": [
    "Reading the data"
   ]
  },
  {
   "cell_type": "code",
   "execution_count": 346,
   "id": "48e0a54c",
   "metadata": {},
   "outputs": [
    {
     "name": "stdout",
     "output_type": "stream",
     "text": [
      "accident_df\n"
     ]
    },
    {
     "name": "stderr",
     "output_type": "stream",
     "text": [
      "C:\\Users\\Ellie\\AppData\\Local\\Temp\\ipykernel_18324\\3437032669.py:13: DtypeWarning: Columns (10,13) have mixed types. Specify dtype option on import or set low_memory=False.\n",
      "  locals()[df_name] = pd.read_csv(file_path)\n"
     ]
    },
    {
     "name": "stdout",
     "output_type": "stream",
     "text": [
      "accident_chainage_df\n",
      "accident_event_df\n",
      "accident_location_df\n",
      "atmospheric_cond_df\n",
      "node_df\n",
      "node_id_complex_int_id_df\n",
      "person_df\n"
     ]
    },
    {
     "name": "stderr",
     "output_type": "stream",
     "text": [
      "C:\\Users\\Ellie\\AppData\\Local\\Temp\\ipykernel_18324\\3437032669.py:13: DtypeWarning: Columns (6,9,10,13) have mixed types. Specify dtype option on import or set low_memory=False.\n",
      "  locals()[df_name] = pd.read_csv(file_path)\n"
     ]
    },
    {
     "name": "stdout",
     "output_type": "stream",
     "text": [
      "road_surface_cond_df\n",
      "None\n",
      "subdca_df\n",
      "vehicle_df\n"
     ]
    },
    {
     "name": "stderr",
     "output_type": "stream",
     "text": [
      "C:\\Users\\Ellie\\AppData\\Local\\Temp\\ipykernel_18324\\3437032669.py:13: DtypeWarning: Columns (3,25,26,35,36) have mixed types. Specify dtype option on import or set low_memory=False.\n",
      "  locals()[df_name] = pd.read_csv(file_path)\n"
     ]
    }
   ],
   "source": [
    "path = os.path.join(os.getcwd(), 'ACCIDENT')\n",
    "csv_files = glob.glob(os.path.join(path, \"*.csv\"))\n",
    "data = {}\n",
    "\n",
    "p = re.compile(\"([A-Z_]+)\\.csv\")\n",
    "for file_path in csv_files:\n",
    "    try:\n",
    "        df_name = f'{p.search(file_path).groups()[0].lower()}_df'\n",
    "    except:\n",
    "        df_name = None\n",
    "    print(df_name)\n",
    "    if df_name is not None:\n",
    "        locals()[df_name] = pd.read_csv(file_path)"
   ]
  },
  {
   "cell_type": "markdown",
   "id": "8143ab78",
   "metadata": {},
   "source": [
    "### Cleaning and formatting"
   ]
  },
  {
   "cell_type": "code",
   "execution_count": 347,
   "id": "d5238979",
   "metadata": {},
   "outputs": [],
   "source": [
    "# dealing with multiples types issue\n",
    "accident_df.iloc[:, [10,13]] = accident_df.iloc[:, [10,13]].applymap(lambda x: str(x))\n",
    "person_df.iloc[:, [6,9,10,13]] = person_df.iloc[:, [6,9,10,13]].applymap(lambda x: str(x))\n",
    "vehicle_df.iloc[:, [3,25,26,35,36]] = vehicle_df.iloc[:, [3,25,26,35,36]].applymap(lambda x: str(x))\n",
    "\n",
    "# converting datetime columns to datetime format\n",
    "accident_df['ACCIDENTDATE'] = pd.to_datetime(accident_df['ACCIDENTDATE'], infer_datetime_format=True)\n",
    "accident_df['ACCIDENTTIME'] = pd.to_datetime(accident_df['ACCIDENTTIME'], infer_datetime_format=True)"
   ]
  },
  {
   "cell_type": "code",
   "execution_count": 348,
   "id": "230cad72",
   "metadata": {},
   "outputs": [],
   "source": [
    "# getting rid of blank strings and leading/trailing spaces\n",
    "for df in [accident_data, event_data, location_data, atmospheric_data, node_data, \n",
    "           node_complex_data, person_data, road_data, vehicle_data]:\n",
    "    df = df.replace('^\\s$', None, regex=True)\n",
    "    df = df.applymap(lambda x: x.strip() if isinstance(x, str) else x)"
   ]
  },
  {
   "cell_type": "markdown",
   "id": "c2c994a5",
   "metadata": {},
   "source": [
    "### Choosing columns to start off with\n",
    "Here we isolate from each table the columns we deem as useful to our model.\n",
    "\n",
    "To see the full column list for each table please refer to crashstats_eda.ipynb"
   ]
  },
  {
   "cell_type": "code",
   "execution_count": 467,
   "id": "93e8877d",
   "metadata": {},
   "outputs": [],
   "source": [
    "# the columns we are choosing to include in our modeling\n",
    "accident_columns = ['ACCIDENT_NO', 'ACCIDENTDATE', 'ACCIDENTTIME', 'Accident Type Desc', 'Day Week Description', \n",
    "                    'DCA Description', 'Light Condition Desc', 'NODE_ID', 'NO_OF_VEHICLES', 'NO_PERSONS', \n",
    "                    'POLICE_ATTEND', 'Road Geometry Desc', 'SEVERITY', 'SPEED_ZONE']\n",
    "event_columns = ['ACCIDENT_NO', 'Event Type Desc', 'VEHICLE_1_ID', 'Vehicle 1 Coll Pt Desc', \n",
    "                 'VEHICLE_2_ID', 'Vehicle 2 Coll Pt Desc', 'PERSON_ID', 'OBJECT_TYPE', 'Object Type Desc']\n",
    "location_columns = ['ACCIDENT_NO', 'NODE_ID', 'ROAD_TYPE', 'ROAD_TYPE_INT', 'DISTANCE_LOCATION', 'DIRECTION_LOCATION']\n",
    "atmospheric_columns = ['ACCIDENT_NO', 'Atmosph Cond Desc']\n",
    "node_columns = ['ACCIDENT_NO', 'NODE_ID', 'NODE_TYPE', 'LGA_NAME', 'REGION_NAME', 'DEG_URBAN_NAME']\n",
    "node_complex_columns = ['ACCIDENT_NO', 'NODE_ID', 'COMPLEX_INT_NO']\n",
    "person_columns = ['ACCIDENT_NO', 'PERSON_ID', 'VEHICLE_ID', 'SEX', 'AGE', 'SEATING_POSITION', 'HELMET_BELT_WORN', 'Road User Type Desc', 'LICENCE_STATE', \n",
    "                  'PEDEST_MOVEMENT', 'EJECTED_CODE', 'Inj Level Desc']\n",
    "road_columns = ['ACCIDENT_NO', 'Surface Cond Desc']\n",
    "vehicle_columns = ['ACCIDENT_NO', 'VEHICLE_ID', 'VEHICLE_YEAR_MANUF', 'VEHICLE_DCA_CODE', 'INITIAL_DIRECTION', \n",
    "                   'Road Surface Type Desc', 'REG_STATE', 'VEHICLE_BODY_STYLE', 'VEHICLE_MAKE', 'VEHICLE_MODEL', \n",
    "                   'Vehicle Type Desc', 'CONSTRUCTION_TYPE', 'FUEL_TYPE', 'NO_OF_WHEELS', 'NO_OF_CYLINDERS', \n",
    "                   'SEATING_CAPACITY', 'TARE_WEIGHT', 'TOTAL_NO_OCCUPANTS', 'CARRY_CAPACITY', 'CUBIC_CAPACITY', \n",
    "                   'FINAL_DIRECTION', 'DRIVER_INTENT', 'VEHICLE_MOVEMENT', 'TRAILER_TYPE', 'VEHICLE_COLOUR_1', \n",
    "                   'VEHICLE_COLOUR_2', 'CAUGHT_FIRE', 'INITIAL_IMPACT', 'LAMPS', 'Traffic Control Desc']\n",
    "\n",
    "accident_data = accident_df[accident_columns]\n",
    "event_data = accident_event_df[event_columns]\n",
    "location_data = accident_location_df[location_columns]\n",
    "atmospheric_data = atmospheric_cond_df[atmospheric_columns]\n",
    "node_data = node_df[node_columns]\n",
    "node_complex_data = node_id_complex_int_id_df[node_complex_columns]\n",
    "person_data = person_df[person_columns]\n",
    "road_data = road_surface_cond_df[road_columns]\n",
    "vehicle_data = vehicle_df[vehicle_columns]"
   ]
  },
  {
   "cell_type": "markdown",
   "id": "95dca21f",
   "metadata": {},
   "source": [
    "### Feature engineering\n",
    "We'll start off with the whole accident table we isolated and add some more data for our model from the other tables:\n",
    "- Year, month and hour of accident\n",
    "- Mean ages for all persons in accident and all drivers in accident\n",
    "- Number of female and male drivers in accident\n",
    "- Indicator fields for atmospheric conditions, road conditions and event types\n",
    "- Binary field for presence of complex intersection\n",
    "\n",
    "We'll also take the following steps:\n",
    "- Replace missing or dummy values (such as 999 in speed_zone) with -1\n",
    "- Group low levels of certain columns (e.g. DCA code) into another category named \"other\""
   ]
  },
  {
   "cell_type": "code",
   "execution_count": 421,
   "id": "58c91c9a",
   "metadata": {},
   "outputs": [],
   "source": [
    "data = accident_data.set_index('ACCIDENT_NO')\n",
    "\n",
    "# datetime cols - treat as numeric\n",
    "data['YEAR'] = data['ACCIDENTDATE'].dt.year\n",
    "data['MONTH'] = data['ACCIDENTDATE'].dt.month\n",
    "data['HOUR'] = data['ACCIDENTTIME'].dt.hour\n",
    "\n",
    "# mean age of all involved and mean age of drivers\n",
    "data['MEAN_AGE'] = person_data.groupby('ACCIDENT_NO')['AGE'].mean()\n",
    "data['MEAN_DRIVER_AGE'] = person_data[person_data['Road User Type Desc']=='Drivers'].groupby('ACCIDENT_NO')['AGE'].mean()\n",
    "\n",
    "# how many drivers from each sex\n",
    "data[['NO_OF_FEMALE_DRIVERS', 'NO_OF_MALE_DRIVERS']] = person_df[person_data['Road User Type Desc']=='Drivers'].groupby(\n",
    "    'ACCIDENT_NO')['SEX'].value_counts().unstack().fillna(0).drop(['U', ' '], axis=1)\n",
    "\n",
    "# if our newly created numeric cols are nulls, that may mean there were no drivers in the accident\n",
    "# filling nulls numeric cols with -1\n",
    "new_cols = ['MEAN_AGE', 'MEAN_DRIVER_AGE', 'NO_OF_FEMALE_DRIVERS', 'NO_OF_MALE_DRIVERS']\n",
    "data[new_cols] = data[new_cols].fillna(-1)\n",
    "\n",
    "# MultiLabelBinarizing atmospheric conditions\n",
    "atmospheric_data_to_join = atmospheric_data.groupby('ACCIDENT_NO')['Atmosph Cond Desc'].value_counts().unstack().fillna(0)\n",
    "data = pd.concat([data, atmospheric_data_to_join], axis=1)\n",
    "\n",
    "# MultiLabelBinarizing road conditions\n",
    "road_data_to_join = road_data.groupby('ACCIDENT_NO')['Surface Cond Desc'].value_counts().unstack().fillna(0)\n",
    "data = pd.concat([data, road_data_to_join], axis=1)\n",
    "\n",
    "# MultiLabelBinarizing event type\n",
    "event_data_to_join = event_data.groupby('ACCIDENT_NO')['Event Type Desc'].value_counts().unstack().fillna(0)\n",
    "data = pd.concat([data, event_data_to_join], axis=1)\n",
    "\n",
    "# was there a complex intersection in the accident\n",
    "data['COMPLEX_INT'] = node_complex_data.groupby('ACCIDENT_NO')['COMPLEX_INT_NO'].any()\n",
    "\n",
    "# getting rid of 999s on speed_zone\n",
    "data['SPEED_ZONE'] = data['SPEED_ZONE'].replace(999, data['SPEED_ZONE'].mode()[0])\n",
    "\n",
    "# binning low levels on DCA description\n",
    "def bin_low_levels(s, thresh):\n",
    "    vc = s.value_counts(normalize=True)\n",
    "    return s.apply(lambda x: 'Other' if x not in vc[vc>thresh].index else x)\n",
    "\n",
    "data['DCA Description'] = bin_low_levels(data['DCA Description'], 0.01)\n",
    "\n",
    "# dropping the datetime columns and the rarely seen level 4 severity (no injured persons)\n",
    "data.drop(['ACCIDENTDATE', 'ACCIDENTTIME', 'NODE_ID'], axis=1, inplace=True)\n",
    "data = data[data['SEVERITY']!=4]"
   ]
  },
  {
   "cell_type": "code",
   "execution_count": 359,
   "id": "0b48ec1d",
   "metadata": {},
   "outputs": [
    {
     "data": {
      "text/html": [
       "<div>\n",
       "<style scoped>\n",
       "    .dataframe tbody tr th:only-of-type {\n",
       "        vertical-align: middle;\n",
       "    }\n",
       "\n",
       "    .dataframe tbody tr th {\n",
       "        vertical-align: top;\n",
       "    }\n",
       "\n",
       "    .dataframe thead th {\n",
       "        text-align: right;\n",
       "    }\n",
       "</style>\n",
       "<table border=\"1\" class=\"dataframe\">\n",
       "  <thead>\n",
       "    <tr style=\"text-align: right;\">\n",
       "      <th></th>\n",
       "      <th>count</th>\n",
       "      <th>unique</th>\n",
       "      <th>top</th>\n",
       "      <th>freq</th>\n",
       "      <th>mean</th>\n",
       "      <th>std</th>\n",
       "      <th>min</th>\n",
       "      <th>25%</th>\n",
       "      <th>50%</th>\n",
       "      <th>75%</th>\n",
       "      <th>max</th>\n",
       "    </tr>\n",
       "  </thead>\n",
       "  <tbody>\n",
       "    <tr>\n",
       "      <th>Accident Type Desc</th>\n",
       "      <td>203704</td>\n",
       "      <td>9</td>\n",
       "      <td>Collision with vehicle</td>\n",
       "      <td>126652</td>\n",
       "      <td>NaN</td>\n",
       "      <td>NaN</td>\n",
       "      <td>NaN</td>\n",
       "      <td>NaN</td>\n",
       "      <td>NaN</td>\n",
       "      <td>NaN</td>\n",
       "      <td>NaN</td>\n",
       "    </tr>\n",
       "    <tr>\n",
       "      <th>Day Week Description</th>\n",
       "      <td>203704</td>\n",
       "      <td>7</td>\n",
       "      <td>Friday</td>\n",
       "      <td>32240</td>\n",
       "      <td>NaN</td>\n",
       "      <td>NaN</td>\n",
       "      <td>NaN</td>\n",
       "      <td>NaN</td>\n",
       "      <td>NaN</td>\n",
       "      <td>NaN</td>\n",
       "      <td>NaN</td>\n",
       "    </tr>\n",
       "    <tr>\n",
       "      <th>DCA Description</th>\n",
       "      <td>203704</td>\n",
       "      <td>26</td>\n",
       "      <td>Other</td>\n",
       "      <td>33468</td>\n",
       "      <td>NaN</td>\n",
       "      <td>NaN</td>\n",
       "      <td>NaN</td>\n",
       "      <td>NaN</td>\n",
       "      <td>NaN</td>\n",
       "      <td>NaN</td>\n",
       "      <td>NaN</td>\n",
       "    </tr>\n",
       "    <tr>\n",
       "      <th>Light Condition Desc</th>\n",
       "      <td>203704</td>\n",
       "      <td>7</td>\n",
       "      <td>Day</td>\n",
       "      <td>136358</td>\n",
       "      <td>NaN</td>\n",
       "      <td>NaN</td>\n",
       "      <td>NaN</td>\n",
       "      <td>NaN</td>\n",
       "      <td>NaN</td>\n",
       "      <td>NaN</td>\n",
       "      <td>NaN</td>\n",
       "    </tr>\n",
       "    <tr>\n",
       "      <th>NO_OF_VEHICLES</th>\n",
       "      <td>203704.0</td>\n",
       "      <td>NaN</td>\n",
       "      <td>NaN</td>\n",
       "      <td>NaN</td>\n",
       "      <td>1.793008</td>\n",
       "      <td>0.74932</td>\n",
       "      <td>1.0</td>\n",
       "      <td>1.0</td>\n",
       "      <td>2.0</td>\n",
       "      <td>2.0</td>\n",
       "      <td>21.0</td>\n",
       "    </tr>\n",
       "    <tr>\n",
       "      <th>NO_PERSONS</th>\n",
       "      <td>203704.0</td>\n",
       "      <td>NaN</td>\n",
       "      <td>NaN</td>\n",
       "      <td>NaN</td>\n",
       "      <td>2.410336</td>\n",
       "      <td>1.502417</td>\n",
       "      <td>1.0</td>\n",
       "      <td>2.0</td>\n",
       "      <td>2.0</td>\n",
       "      <td>3.0</td>\n",
       "      <td>97.0</td>\n",
       "    </tr>\n",
       "    <tr>\n",
       "      <th>POLICE_ATTEND</th>\n",
       "      <td>203704.0</td>\n",
       "      <td>NaN</td>\n",
       "      <td>NaN</td>\n",
       "      <td>NaN</td>\n",
       "      <td>1.276588</td>\n",
       "      <td>0.604635</td>\n",
       "      <td>1.0</td>\n",
       "      <td>1.0</td>\n",
       "      <td>1.0</td>\n",
       "      <td>2.0</td>\n",
       "      <td>9.0</td>\n",
       "    </tr>\n",
       "    <tr>\n",
       "      <th>Road Geometry Desc</th>\n",
       "      <td>203704</td>\n",
       "      <td>9</td>\n",
       "      <td>Not at intersection</td>\n",
       "      <td>103272</td>\n",
       "      <td>NaN</td>\n",
       "      <td>NaN</td>\n",
       "      <td>NaN</td>\n",
       "      <td>NaN</td>\n",
       "      <td>NaN</td>\n",
       "      <td>NaN</td>\n",
       "      <td>NaN</td>\n",
       "    </tr>\n",
       "    <tr>\n",
       "      <th>SEVERITY</th>\n",
       "      <td>203704.0</td>\n",
       "      <td>NaN</td>\n",
       "      <td>NaN</td>\n",
       "      <td>NaN</td>\n",
       "      <td>2.627646</td>\n",
       "      <td>0.519715</td>\n",
       "      <td>1.0</td>\n",
       "      <td>2.0</td>\n",
       "      <td>3.0</td>\n",
       "      <td>3.0</td>\n",
       "      <td>3.0</td>\n",
       "    </tr>\n",
       "    <tr>\n",
       "      <th>SPEED_ZONE</th>\n",
       "      <td>203704.0</td>\n",
       "      <td>NaN</td>\n",
       "      <td>NaN</td>\n",
       "      <td>NaN</td>\n",
       "      <td>72.242582</td>\n",
       "      <td>63.111241</td>\n",
       "      <td>30.0</td>\n",
       "      <td>60.0</td>\n",
       "      <td>60.0</td>\n",
       "      <td>80.0</td>\n",
       "      <td>888.0</td>\n",
       "    </tr>\n",
       "    <tr>\n",
       "      <th>YEAR</th>\n",
       "      <td>203704.0</td>\n",
       "      <td>NaN</td>\n",
       "      <td>NaN</td>\n",
       "      <td>NaN</td>\n",
       "      <td>2012.756092</td>\n",
       "      <td>4.137433</td>\n",
       "      <td>2006.0</td>\n",
       "      <td>2009.0</td>\n",
       "      <td>2013.0</td>\n",
       "      <td>2016.0</td>\n",
       "      <td>2020.0</td>\n",
       "    </tr>\n",
       "    <tr>\n",
       "      <th>MONTH</th>\n",
       "      <td>203704.0</td>\n",
       "      <td>NaN</td>\n",
       "      <td>NaN</td>\n",
       "      <td>NaN</td>\n",
       "      <td>6.432407</td>\n",
       "      <td>3.45901</td>\n",
       "      <td>1.0</td>\n",
       "      <td>3.0</td>\n",
       "      <td>6.0</td>\n",
       "      <td>10.0</td>\n",
       "      <td>12.0</td>\n",
       "    </tr>\n",
       "    <tr>\n",
       "      <th>HOUR</th>\n",
       "      <td>203704.0</td>\n",
       "      <td>NaN</td>\n",
       "      <td>NaN</td>\n",
       "      <td>NaN</td>\n",
       "      <td>13.189437</td>\n",
       "      <td>5.209721</td>\n",
       "      <td>0.0</td>\n",
       "      <td>9.0</td>\n",
       "      <td>14.0</td>\n",
       "      <td>17.0</td>\n",
       "      <td>23.0</td>\n",
       "    </tr>\n",
       "    <tr>\n",
       "      <th>MEAN_AGE</th>\n",
       "      <td>203704.0</td>\n",
       "      <td>NaN</td>\n",
       "      <td>NaN</td>\n",
       "      <td>NaN</td>\n",
       "      <td>38.437292</td>\n",
       "      <td>14.574831</td>\n",
       "      <td>-1.0</td>\n",
       "      <td>27.0</td>\n",
       "      <td>36.5</td>\n",
       "      <td>47.5</td>\n",
       "      <td>101.0</td>\n",
       "    </tr>\n",
       "    <tr>\n",
       "      <th>MEAN_DRIVER_AGE</th>\n",
       "      <td>203704.0</td>\n",
       "      <td>NaN</td>\n",
       "      <td>NaN</td>\n",
       "      <td>NaN</td>\n",
       "      <td>35.202153</td>\n",
       "      <td>19.663758</td>\n",
       "      <td>-1.0</td>\n",
       "      <td>24.0</td>\n",
       "      <td>36.0</td>\n",
       "      <td>48.0</td>\n",
       "      <td>101.0</td>\n",
       "    </tr>\n",
       "    <tr>\n",
       "      <th>NO_OF_FEMALE_DRIVERS</th>\n",
       "      <td>203704.0</td>\n",
       "      <td>NaN</td>\n",
       "      <td>NaN</td>\n",
       "      <td>NaN</td>\n",
       "      <td>0.475504</td>\n",
       "      <td>0.841731</td>\n",
       "      <td>-1.0</td>\n",
       "      <td>0.0</td>\n",
       "      <td>0.0</td>\n",
       "      <td>1.0</td>\n",
       "      <td>8.0</td>\n",
       "    </tr>\n",
       "    <tr>\n",
       "      <th>NO_OF_MALE_DRIVERS</th>\n",
       "      <td>203704.0</td>\n",
       "      <td>NaN</td>\n",
       "      <td>NaN</td>\n",
       "      <td>NaN</td>\n",
       "      <td>0.734389</td>\n",
       "      <td>0.937445</td>\n",
       "      <td>-1.0</td>\n",
       "      <td>0.0</td>\n",
       "      <td>1.0</td>\n",
       "      <td>1.0</td>\n",
       "      <td>14.0</td>\n",
       "    </tr>\n",
       "    <tr>\n",
       "      <th>Clear</th>\n",
       "      <td>203704.0</td>\n",
       "      <td>NaN</td>\n",
       "      <td>NaN</td>\n",
       "      <td>NaN</td>\n",
       "      <td>0.806189</td>\n",
       "      <td>0.395283</td>\n",
       "      <td>0.0</td>\n",
       "      <td>1.0</td>\n",
       "      <td>1.0</td>\n",
       "      <td>1.0</td>\n",
       "      <td>1.0</td>\n",
       "    </tr>\n",
       "    <tr>\n",
       "      <th>Dust</th>\n",
       "      <td>203704.0</td>\n",
       "      <td>NaN</td>\n",
       "      <td>NaN</td>\n",
       "      <td>NaN</td>\n",
       "      <td>0.002725</td>\n",
       "      <td>0.052126</td>\n",
       "      <td>0.0</td>\n",
       "      <td>0.0</td>\n",
       "      <td>0.0</td>\n",
       "      <td>0.0</td>\n",
       "      <td>1.0</td>\n",
       "    </tr>\n",
       "    <tr>\n",
       "      <th>Fog</th>\n",
       "      <td>203704.0</td>\n",
       "      <td>NaN</td>\n",
       "      <td>NaN</td>\n",
       "      <td>NaN</td>\n",
       "      <td>0.009416</td>\n",
       "      <td>0.096576</td>\n",
       "      <td>0.0</td>\n",
       "      <td>0.0</td>\n",
       "      <td>0.0</td>\n",
       "      <td>0.0</td>\n",
       "      <td>1.0</td>\n",
       "    </tr>\n",
       "    <tr>\n",
       "      <th>Not known</th>\n",
       "      <td>203704.0</td>\n",
       "      <td>NaN</td>\n",
       "      <td>NaN</td>\n",
       "      <td>NaN</td>\n",
       "      <td>0.072841</td>\n",
       "      <td>0.259876</td>\n",
       "      <td>0.0</td>\n",
       "      <td>0.0</td>\n",
       "      <td>0.0</td>\n",
       "      <td>0.0</td>\n",
       "      <td>1.0</td>\n",
       "    </tr>\n",
       "    <tr>\n",
       "      <th>Raining</th>\n",
       "      <td>203704.0</td>\n",
       "      <td>NaN</td>\n",
       "      <td>NaN</td>\n",
       "      <td>NaN</td>\n",
       "      <td>0.108088</td>\n",
       "      <td>0.310493</td>\n",
       "      <td>0.0</td>\n",
       "      <td>0.0</td>\n",
       "      <td>0.0</td>\n",
       "      <td>0.0</td>\n",
       "      <td>1.0</td>\n",
       "    </tr>\n",
       "    <tr>\n",
       "      <th>Smoke</th>\n",
       "      <td>203704.0</td>\n",
       "      <td>NaN</td>\n",
       "      <td>NaN</td>\n",
       "      <td>NaN</td>\n",
       "      <td>0.00137</td>\n",
       "      <td>0.036983</td>\n",
       "      <td>0.0</td>\n",
       "      <td>0.0</td>\n",
       "      <td>0.0</td>\n",
       "      <td>0.0</td>\n",
       "      <td>1.0</td>\n",
       "    </tr>\n",
       "    <tr>\n",
       "      <th>Snowing</th>\n",
       "      <td>203704.0</td>\n",
       "      <td>NaN</td>\n",
       "      <td>NaN</td>\n",
       "      <td>NaN</td>\n",
       "      <td>0.000432</td>\n",
       "      <td>0.02078</td>\n",
       "      <td>0.0</td>\n",
       "      <td>0.0</td>\n",
       "      <td>0.0</td>\n",
       "      <td>0.0</td>\n",
       "      <td>1.0</td>\n",
       "    </tr>\n",
       "    <tr>\n",
       "      <th>Strong winds</th>\n",
       "      <td>203704.0</td>\n",
       "      <td>NaN</td>\n",
       "      <td>NaN</td>\n",
       "      <td>NaN</td>\n",
       "      <td>0.014894</td>\n",
       "      <td>0.12113</td>\n",
       "      <td>0.0</td>\n",
       "      <td>0.0</td>\n",
       "      <td>0.0</td>\n",
       "      <td>0.0</td>\n",
       "      <td>1.0</td>\n",
       "    </tr>\n",
       "    <tr>\n",
       "      <th>Dry</th>\n",
       "      <td>203704.0</td>\n",
       "      <td>NaN</td>\n",
       "      <td>NaN</td>\n",
       "      <td>NaN</td>\n",
       "      <td>0.786759</td>\n",
       "      <td>0.409597</td>\n",
       "      <td>0.0</td>\n",
       "      <td>1.0</td>\n",
       "      <td>1.0</td>\n",
       "      <td>1.0</td>\n",
       "      <td>1.0</td>\n",
       "    </tr>\n",
       "    <tr>\n",
       "      <th>Icy</th>\n",
       "      <td>203704.0</td>\n",
       "      <td>NaN</td>\n",
       "      <td>NaN</td>\n",
       "      <td>NaN</td>\n",
       "      <td>0.003382</td>\n",
       "      <td>0.05806</td>\n",
       "      <td>0.0</td>\n",
       "      <td>0.0</td>\n",
       "      <td>0.0</td>\n",
       "      <td>0.0</td>\n",
       "      <td>1.0</td>\n",
       "    </tr>\n",
       "    <tr>\n",
       "      <th>Muddy</th>\n",
       "      <td>203704.0</td>\n",
       "      <td>NaN</td>\n",
       "      <td>NaN</td>\n",
       "      <td>NaN</td>\n",
       "      <td>0.006166</td>\n",
       "      <td>0.07828</td>\n",
       "      <td>0.0</td>\n",
       "      <td>0.0</td>\n",
       "      <td>0.0</td>\n",
       "      <td>0.0</td>\n",
       "      <td>1.0</td>\n",
       "    </tr>\n",
       "    <tr>\n",
       "      <th>Snowy</th>\n",
       "      <td>203704.0</td>\n",
       "      <td>NaN</td>\n",
       "      <td>NaN</td>\n",
       "      <td>NaN</td>\n",
       "      <td>0.000677</td>\n",
       "      <td>0.026019</td>\n",
       "      <td>0.0</td>\n",
       "      <td>0.0</td>\n",
       "      <td>0.0</td>\n",
       "      <td>0.0</td>\n",
       "      <td>1.0</td>\n",
       "    </tr>\n",
       "    <tr>\n",
       "      <th>Unknown</th>\n",
       "      <td>203704.0</td>\n",
       "      <td>NaN</td>\n",
       "      <td>NaN</td>\n",
       "      <td>NaN</td>\n",
       "      <td>0.051133</td>\n",
       "      <td>0.22027</td>\n",
       "      <td>0.0</td>\n",
       "      <td>0.0</td>\n",
       "      <td>0.0</td>\n",
       "      <td>0.0</td>\n",
       "      <td>1.0</td>\n",
       "    </tr>\n",
       "    <tr>\n",
       "      <th>Wet</th>\n",
       "      <td>203704.0</td>\n",
       "      <td>NaN</td>\n",
       "      <td>NaN</td>\n",
       "      <td>NaN</td>\n",
       "      <td>0.158367</td>\n",
       "      <td>0.365086</td>\n",
       "      <td>0.0</td>\n",
       "      <td>0.0</td>\n",
       "      <td>0.0</td>\n",
       "      <td>0.0</td>\n",
       "      <td>1.0</td>\n",
       "    </tr>\n",
       "    <tr>\n",
       "      <th>COMPLEX_INT</th>\n",
       "      <td>203704</td>\n",
       "      <td>2</td>\n",
       "      <td>False</td>\n",
       "      <td>182068</td>\n",
       "      <td>NaN</td>\n",
       "      <td>NaN</td>\n",
       "      <td>NaN</td>\n",
       "      <td>NaN</td>\n",
       "      <td>NaN</td>\n",
       "      <td>NaN</td>\n",
       "      <td>NaN</td>\n",
       "    </tr>\n",
       "  </tbody>\n",
       "</table>\n",
       "</div>"
      ],
      "text/plain": [
       "                         count unique                     top    freq  \\\n",
       "Accident Type Desc      203704      9  Collision with vehicle  126652   \n",
       "Day Week Description    203704      7                  Friday   32240   \n",
       "DCA Description         203704     26                   Other   33468   \n",
       "Light Condition Desc    203704      7                     Day  136358   \n",
       "NO_OF_VEHICLES        203704.0    NaN                     NaN     NaN   \n",
       "NO_PERSONS            203704.0    NaN                     NaN     NaN   \n",
       "POLICE_ATTEND         203704.0    NaN                     NaN     NaN   \n",
       "Road Geometry Desc      203704      9     Not at intersection  103272   \n",
       "SEVERITY              203704.0    NaN                     NaN     NaN   \n",
       "SPEED_ZONE            203704.0    NaN                     NaN     NaN   \n",
       "YEAR                  203704.0    NaN                     NaN     NaN   \n",
       "MONTH                 203704.0    NaN                     NaN     NaN   \n",
       "HOUR                  203704.0    NaN                     NaN     NaN   \n",
       "MEAN_AGE              203704.0    NaN                     NaN     NaN   \n",
       "MEAN_DRIVER_AGE       203704.0    NaN                     NaN     NaN   \n",
       "NO_OF_FEMALE_DRIVERS  203704.0    NaN                     NaN     NaN   \n",
       "NO_OF_MALE_DRIVERS    203704.0    NaN                     NaN     NaN   \n",
       "Clear                 203704.0    NaN                     NaN     NaN   \n",
       "Dust                  203704.0    NaN                     NaN     NaN   \n",
       "Fog                   203704.0    NaN                     NaN     NaN   \n",
       "Not known             203704.0    NaN                     NaN     NaN   \n",
       "Raining               203704.0    NaN                     NaN     NaN   \n",
       "Smoke                 203704.0    NaN                     NaN     NaN   \n",
       "Snowing               203704.0    NaN                     NaN     NaN   \n",
       "Strong winds          203704.0    NaN                     NaN     NaN   \n",
       "Dry                   203704.0    NaN                     NaN     NaN   \n",
       "Icy                   203704.0    NaN                     NaN     NaN   \n",
       "Muddy                 203704.0    NaN                     NaN     NaN   \n",
       "Snowy                 203704.0    NaN                     NaN     NaN   \n",
       "Unknown               203704.0    NaN                     NaN     NaN   \n",
       "Wet                   203704.0    NaN                     NaN     NaN   \n",
       "COMPLEX_INT             203704      2                   False  182068   \n",
       "\n",
       "                             mean        std     min     25%     50%     75%  \\\n",
       "Accident Type Desc            NaN        NaN     NaN     NaN     NaN     NaN   \n",
       "Day Week Description          NaN        NaN     NaN     NaN     NaN     NaN   \n",
       "DCA Description               NaN        NaN     NaN     NaN     NaN     NaN   \n",
       "Light Condition Desc          NaN        NaN     NaN     NaN     NaN     NaN   \n",
       "NO_OF_VEHICLES           1.793008    0.74932     1.0     1.0     2.0     2.0   \n",
       "NO_PERSONS               2.410336   1.502417     1.0     2.0     2.0     3.0   \n",
       "POLICE_ATTEND            1.276588   0.604635     1.0     1.0     1.0     2.0   \n",
       "Road Geometry Desc            NaN        NaN     NaN     NaN     NaN     NaN   \n",
       "SEVERITY                 2.627646   0.519715     1.0     2.0     3.0     3.0   \n",
       "SPEED_ZONE              72.242582  63.111241    30.0    60.0    60.0    80.0   \n",
       "YEAR                  2012.756092   4.137433  2006.0  2009.0  2013.0  2016.0   \n",
       "MONTH                    6.432407    3.45901     1.0     3.0     6.0    10.0   \n",
       "HOUR                    13.189437   5.209721     0.0     9.0    14.0    17.0   \n",
       "MEAN_AGE                38.437292  14.574831    -1.0    27.0    36.5    47.5   \n",
       "MEAN_DRIVER_AGE         35.202153  19.663758    -1.0    24.0    36.0    48.0   \n",
       "NO_OF_FEMALE_DRIVERS     0.475504   0.841731    -1.0     0.0     0.0     1.0   \n",
       "NO_OF_MALE_DRIVERS       0.734389   0.937445    -1.0     0.0     1.0     1.0   \n",
       "Clear                    0.806189   0.395283     0.0     1.0     1.0     1.0   \n",
       "Dust                     0.002725   0.052126     0.0     0.0     0.0     0.0   \n",
       "Fog                      0.009416   0.096576     0.0     0.0     0.0     0.0   \n",
       "Not known                0.072841   0.259876     0.0     0.0     0.0     0.0   \n",
       "Raining                  0.108088   0.310493     0.0     0.0     0.0     0.0   \n",
       "Smoke                     0.00137   0.036983     0.0     0.0     0.0     0.0   \n",
       "Snowing                  0.000432    0.02078     0.0     0.0     0.0     0.0   \n",
       "Strong winds             0.014894    0.12113     0.0     0.0     0.0     0.0   \n",
       "Dry                      0.786759   0.409597     0.0     1.0     1.0     1.0   \n",
       "Icy                      0.003382    0.05806     0.0     0.0     0.0     0.0   \n",
       "Muddy                    0.006166    0.07828     0.0     0.0     0.0     0.0   \n",
       "Snowy                    0.000677   0.026019     0.0     0.0     0.0     0.0   \n",
       "Unknown                  0.051133    0.22027     0.0     0.0     0.0     0.0   \n",
       "Wet                      0.158367   0.365086     0.0     0.0     0.0     0.0   \n",
       "COMPLEX_INT                   NaN        NaN     NaN     NaN     NaN     NaN   \n",
       "\n",
       "                         max  \n",
       "Accident Type Desc       NaN  \n",
       "Day Week Description     NaN  \n",
       "DCA Description          NaN  \n",
       "Light Condition Desc     NaN  \n",
       "NO_OF_VEHICLES          21.0  \n",
       "NO_PERSONS              97.0  \n",
       "POLICE_ATTEND            9.0  \n",
       "Road Geometry Desc       NaN  \n",
       "SEVERITY                 3.0  \n",
       "SPEED_ZONE             888.0  \n",
       "YEAR                  2020.0  \n",
       "MONTH                   12.0  \n",
       "HOUR                    23.0  \n",
       "MEAN_AGE               101.0  \n",
       "MEAN_DRIVER_AGE        101.0  \n",
       "NO_OF_FEMALE_DRIVERS     8.0  \n",
       "NO_OF_MALE_DRIVERS      14.0  \n",
       "Clear                    1.0  \n",
       "Dust                     1.0  \n",
       "Fog                      1.0  \n",
       "Not known                1.0  \n",
       "Raining                  1.0  \n",
       "Smoke                    1.0  \n",
       "Snowing                  1.0  \n",
       "Strong winds             1.0  \n",
       "Dry                      1.0  \n",
       "Icy                      1.0  \n",
       "Muddy                    1.0  \n",
       "Snowy                    1.0  \n",
       "Unknown                  1.0  \n",
       "Wet                      1.0  \n",
       "COMPLEX_INT              NaN  "
      ]
     },
     "execution_count": 359,
     "metadata": {},
     "output_type": "execute_result"
    }
   ],
   "source": [
    "data.describe(include='all').T"
   ]
  },
  {
   "cell_type": "markdown",
   "id": "ea23134b",
   "metadata": {},
   "source": [
    "We'll attempt two kinds of models, binary models and ordinal regression models\n",
    "\n",
    "For binary models we'll create a binary dependent variable, where:\n",
    "1. Positive class = fatal and serious injury accidents (0 and 1)\n",
    "2. Negative class = other injury accidents (2)\n",
    "\n",
    "For the binary models we'll try two classification algorithms: logistic regression and random forest. For the ordinal regression we'll use logistic regression with immediate intervals."
   ]
  },
  {
   "cell_type": "markdown",
   "id": "5ad29845",
   "metadata": {},
   "source": [
    "First we have some preprocessing to do: We'll start by listing our numeric and categorical fields"
   ]
  },
  {
   "cell_type": "code",
   "execution_count": 360,
   "id": "75de5aee",
   "metadata": {},
   "outputs": [],
   "source": [
    "# numeric fields\n",
    "num_cols = ['NO_OF_PERSONS', 'NO_OF_VEHICLES', 'SPEED_ZONE', 'MEAN_AGE', 'MEAN_DRIVER_AGE', 'NO_OF_FEMALE_DRIVERS', \n",
    "            'NO_OF_MALE_DRIVERS', 'YEAR', 'MONTH', 'HOUR']\n",
    "\n",
    "# categorical fields\n",
    "cat_cols = ['Accident Type Desc', 'Day Week Description', 'DCA Description', 'Light Condition Desc', 'Road Geometry Desc',\n",
    "            'COMPLEX_INT']"
   ]
  },
  {
   "cell_type": "code",
   "execution_count": 361,
   "id": "ab3d04c9",
   "metadata": {},
   "outputs": [],
   "source": [
    "# casting our dependent variable 'y' as the SEVERITY column\n",
    "y = data['SEVERITY']\n",
    "\n",
    "# the values of y start at 1. For the ordinal model to work best we should start them at 0\n",
    "y = y.apply(lambda x: x-1)\n",
    "\n",
    "# dropping SEVERITY from our independent variables\n",
    "data.drop('SEVERITY', axis=1, inplace=True)"
   ]
  },
  {
   "cell_type": "code",
   "execution_count": 466,
   "id": "44d739fe",
   "metadata": {},
   "outputs": [],
   "source": [
    "# creating binary dependent variable\n",
    "y_train_binary, y_test_binary = y_train.apply(lambda x: x<2), y_test.apply(lambda x: x<2)"
   ]
  },
  {
   "cell_type": "markdown",
   "id": "5a480106",
   "metadata": {},
   "source": [
    "The remainder of our preprocessing will include three steps:\n",
    "1. One-hot encoding categorical variables\n",
    "2. Standard scaling\n",
    "3. Dimension reduction using Principle Component Analysis (PCA)"
   ]
  },
  {
   "cell_type": "code",
   "execution_count": 381,
   "id": "b4d4856f",
   "metadata": {},
   "outputs": [
    {
     "name": "stdout",
     "output_type": "stream",
     "text": [
      "(162963, 85) (40741, 85)\n",
      "(162963, 66) (40741, 66)\n"
     ]
    }
   ],
   "source": [
    "X_train, X_test, y_train, y_test = train_test_split(data, y, test_size=0.2)\n",
    "\n",
    "# one-hot encoding\n",
    "ohe = OneHotEncoder(handle_unknown='ignore', sparse=False)\n",
    "X_train_ohe = X_train[cat_cols].to_numpy()\n",
    "X_test_ohe = X_test[cat_cols].to_numpy()\n",
    "ohe.fit(train_ohe_data)\n",
    "\n",
    "X_train_ohe = ohe.transform(X_train_ohe)\n",
    "X_train_ohe = pd.DataFrame(X_train_ohe, index=X_train.index, columns=ohe.get_feature_names_out())\n",
    "X_test_ohe = ohe.transform(X_test_ohe)\n",
    "X_test_ohe = pd.DataFrame(X_test_ohe, index=X_test.index, columns=ohe.get_feature_names_out())\n",
    "\n",
    "X_train = pd.concat([X_train, X_train_ohe], axis=1).drop(cat_cols, axis=1)\n",
    "X_test = pd.concat([X_test, X_test_ohe], axis=1).drop(cat_cols, axis=1)\n",
    "\n",
    "# scaling\n",
    "scaler = StandardScaler()\n",
    "X_train = scaler.fit_transform(X_train)\n",
    "X_test = scaler.transform(X_test)\n",
    "\n",
    "# dimension reduction\n",
    "pca = PCA(0.95)\n",
    "pca.fit(X_train)\n",
    "X_train = pca.transform(X_train)\n",
    "X_test = pca.transform(X_test)"
   ]
  },
  {
   "cell_type": "code",
   "execution_count": 468,
   "id": "4086cb20",
   "metadata": {},
   "outputs": [],
   "source": [
    "def plot_roc_curve(test_ytrue, test_ypred, train_ytrue, train_ypred, save_path=None):\n",
    "    test_fpr, test_tpr, test_thresh = roc_curve(test_ytrue, test_ypred, drop_intermediate=False)\n",
    "    test_auc = auc(test_fpr, test_tpr)\n",
    "    \n",
    "    train_fpr, train_tpr, train_thresh = roc_curve(train_ytrue, train_ypred, drop_intermediate=False)\n",
    "    train_auc = auc(train_fpr, train_tpr)\n",
    "\n",
    "    plt.subplots(1, 1, figsize=(10, 7))\n",
    "    plt.plot([0, 1], [0, 1], 'k--')\n",
    "    plt.plot(test_fpr, test_tpr, label=f'test_auc = {test_auc:.3f}')\n",
    "    plt.plot(train_fpr, train_tpr, label=f'train_auc = {train_auc:.3f}')\n",
    "\n",
    "    plt.xlabel('False positive rate')\n",
    "    plt.ylabel('True positive rate')\n",
    "    plt.title('ROC curve')\n",
    "    plt.legend(loc='best')\n",
    "    if save_path is not None:\n",
    "        plt.savefig(save_path)\n",
    "        \n",
    "        \n",
    "def plot_precision_recall_curve(ytrue, ypred, save_path=None):\n",
    "    precision, recall, thresh = precision_recall_curve(ytrue, ypred)\n",
    "    avgprec = average_precision_score(ytrue, ypred)\n",
    "\n",
    "    fig, ax = plt.subplots(1, 1, figsize=(10, 7))\n",
    "    plt.plot([0, 1], [1, 0], 'k--')\n",
    "    plt.plot(precision, recall, label=f'Avg Precision Score = {avgprec:.3f}')\n",
    "    ax.set_xlabel('Precision')\n",
    "    ax.set_ylabel('Recall')\n",
    "    plt.title('Precision-Recall curve')\n",
    "    plt.legend(loc='best')\n",
    "    if save_path is not None:\n",
    "        plt.savefig(save_path)\n",
    "        \n",
    "        \n",
    "def plot_confusion_matrix(cm, save_path=None):\n",
    "    fig, ax = plt.subplots(1, 1, figsize=(5, 5))\n",
    "    colors = sns.light_palette('blue', as_cmap=True)\n",
    "    cm_disp = sns.heatmap(cm, cmap=colors, annot=True, fmt='g', cbar=False)\n",
    "    ax.set_xlabel('Predicted Values')\n",
    "    ax.set_ylabel('Real Values')\n",
    "    if save_path is not None:\n",
    "        plt.savefig(save_path)"
   ]
  },
  {
   "cell_type": "markdown",
   "id": "62289778",
   "metadata": {},
   "source": [
    "### Logistic regression binary classifier"
   ]
  },
  {
   "cell_type": "code",
   "execution_count": 401,
   "id": "aa909030",
   "metadata": {},
   "outputs": [
    {
     "name": "stderr",
     "output_type": "stream",
     "text": [
      "[Parallel(n_jobs=3)]: Using backend LokyBackend with 3 concurrent workers.\n",
      "[Parallel(n_jobs=3)]: Done   2 out of   5 | elapsed:    4.9s remaining:    7.4s\n",
      "[Parallel(n_jobs=3)]: Done   5 out of   5 | elapsed:   13.2s finished\n"
     ]
    },
    {
     "data": {
      "text/html": [
       "<style>#sk-container-id-6 {color: black;background-color: white;}#sk-container-id-6 pre{padding: 0;}#sk-container-id-6 div.sk-toggleable {background-color: white;}#sk-container-id-6 label.sk-toggleable__label {cursor: pointer;display: block;width: 100%;margin-bottom: 0;padding: 0.3em;box-sizing: border-box;text-align: center;}#sk-container-id-6 label.sk-toggleable__label-arrow:before {content: \"▸\";float: left;margin-right: 0.25em;color: #696969;}#sk-container-id-6 label.sk-toggleable__label-arrow:hover:before {color: black;}#sk-container-id-6 div.sk-estimator:hover label.sk-toggleable__label-arrow:before {color: black;}#sk-container-id-6 div.sk-toggleable__content {max-height: 0;max-width: 0;overflow: hidden;text-align: left;background-color: #f0f8ff;}#sk-container-id-6 div.sk-toggleable__content pre {margin: 0.2em;color: black;border-radius: 0.25em;background-color: #f0f8ff;}#sk-container-id-6 input.sk-toggleable__control:checked~div.sk-toggleable__content {max-height: 200px;max-width: 100%;overflow: auto;}#sk-container-id-6 input.sk-toggleable__control:checked~label.sk-toggleable__label-arrow:before {content: \"▾\";}#sk-container-id-6 div.sk-estimator input.sk-toggleable__control:checked~label.sk-toggleable__label {background-color: #d4ebff;}#sk-container-id-6 div.sk-label input.sk-toggleable__control:checked~label.sk-toggleable__label {background-color: #d4ebff;}#sk-container-id-6 input.sk-hidden--visually {border: 0;clip: rect(1px 1px 1px 1px);clip: rect(1px, 1px, 1px, 1px);height: 1px;margin: -1px;overflow: hidden;padding: 0;position: absolute;width: 1px;}#sk-container-id-6 div.sk-estimator {font-family: monospace;background-color: #f0f8ff;border: 1px dotted black;border-radius: 0.25em;box-sizing: border-box;margin-bottom: 0.5em;}#sk-container-id-6 div.sk-estimator:hover {background-color: #d4ebff;}#sk-container-id-6 div.sk-parallel-item::after {content: \"\";width: 100%;border-bottom: 1px solid gray;flex-grow: 1;}#sk-container-id-6 div.sk-label:hover label.sk-toggleable__label {background-color: #d4ebff;}#sk-container-id-6 div.sk-serial::before {content: \"\";position: absolute;border-left: 1px solid gray;box-sizing: border-box;top: 0;bottom: 0;left: 50%;z-index: 0;}#sk-container-id-6 div.sk-serial {display: flex;flex-direction: column;align-items: center;background-color: white;padding-right: 0.2em;padding-left: 0.2em;position: relative;}#sk-container-id-6 div.sk-item {position: relative;z-index: 1;}#sk-container-id-6 div.sk-parallel {display: flex;align-items: stretch;justify-content: center;background-color: white;position: relative;}#sk-container-id-6 div.sk-item::before, #sk-container-id-6 div.sk-parallel-item::before {content: \"\";position: absolute;border-left: 1px solid gray;box-sizing: border-box;top: 0;bottom: 0;left: 50%;z-index: -1;}#sk-container-id-6 div.sk-parallel-item {display: flex;flex-direction: column;z-index: 1;position: relative;background-color: white;}#sk-container-id-6 div.sk-parallel-item:first-child::after {align-self: flex-end;width: 50%;}#sk-container-id-6 div.sk-parallel-item:last-child::after {align-self: flex-start;width: 50%;}#sk-container-id-6 div.sk-parallel-item:only-child::after {width: 0;}#sk-container-id-6 div.sk-dashed-wrapped {border: 1px dashed gray;margin: 0 0.4em 0.5em 0.4em;box-sizing: border-box;padding-bottom: 0.4em;background-color: white;}#sk-container-id-6 div.sk-label label {font-family: monospace;font-weight: bold;display: inline-block;line-height: 1.2em;}#sk-container-id-6 div.sk-label-container {text-align: center;}#sk-container-id-6 div.sk-container {/* jupyter's `normalize.less` sets `[hidden] { display: none; }` but bootstrap.min.css set `[hidden] { display: none !important; }` so we also need the `!important` here to be able to override the default hidden behavior on the sphinx rendered scikit-learn.org. See: https://github.com/scikit-learn/scikit-learn/issues/21755 */display: inline-block !important;position: relative;}#sk-container-id-6 div.sk-text-repr-fallback {display: none;}</style><div id=\"sk-container-id-6\" class=\"sk-top-container\"><div class=\"sk-text-repr-fallback\"><pre>LogisticRegressionCV(class_weight=&#x27;balanced&#x27;, cv=5, max_iter=1000, n_jobs=3,\n",
       "                     random_state=0, verbose=3)</pre><b>In a Jupyter environment, please rerun this cell to show the HTML representation or trust the notebook. <br />On GitHub, the HTML representation is unable to render, please try loading this page with nbviewer.org.</b></div><div class=\"sk-container\" hidden><div class=\"sk-item\"><div class=\"sk-estimator sk-toggleable\"><input class=\"sk-toggleable__control sk-hidden--visually\" id=\"sk-estimator-id-12\" type=\"checkbox\" checked><label for=\"sk-estimator-id-12\" class=\"sk-toggleable__label sk-toggleable__label-arrow\">LogisticRegressionCV</label><div class=\"sk-toggleable__content\"><pre>LogisticRegressionCV(class_weight=&#x27;balanced&#x27;, cv=5, max_iter=1000, n_jobs=3,\n",
       "                     random_state=0, verbose=3)</pre></div></div></div></div></div>"
      ],
      "text/plain": [
       "LogisticRegressionCV(class_weight='balanced', cv=5, max_iter=1000, n_jobs=3,\n",
       "                     random_state=0, verbose=3)"
      ]
     },
     "execution_count": 401,
     "metadata": {},
     "output_type": "execute_result"
    }
   ],
   "source": [
    "# defining the model; hyperparameters tuned: C (regularization parameter)\n",
    "binary_lr_model = LogisticRegressionCV(Cs=10, cv=5, class_weight='balanced', random_state=0, max_iter=1000, verbose=3, n_jobs=3)\n",
    "binary_lr_model.fit(X_train, y_train_binary)"
   ]
  },
  {
   "cell_type": "code",
   "execution_count": 493,
   "id": "f84bc91b",
   "metadata": {},
   "outputs": [],
   "source": [
    "# saving model\n",
    "dump(binary_lr_model, '../models/binary_lr_clf.joblib');"
   ]
  },
  {
   "cell_type": "markdown",
   "id": "7ee2ac3a",
   "metadata": {},
   "source": [
    "#### Logistic regression predictions and metrics"
   ]
  },
  {
   "cell_type": "code",
   "execution_count": 473,
   "id": "e1fbf347",
   "metadata": {},
   "outputs": [
    {
     "name": "stdout",
     "output_type": "stream",
     "text": [
      "              precision    recall  f1-score   support\n",
      "\n",
      "       False       0.76      0.61      0.68     26325\n",
      "        True       0.48      0.65      0.55     14416\n",
      "\n",
      "    accuracy                           0.62     40741\n",
      "   macro avg       0.62      0.63      0.61     40741\n",
      "weighted avg       0.66      0.62      0.63     40741\n",
      "\n"
     ]
    },
    {
     "data": {
      "image/png": "[encoded data removed]",
      "text/plain": [
       "<Figure size 360x360 with 1 Axes>"
      ]
     },
     "metadata": {
      "needs_background": "light"
     },
     "output_type": "display_data"
    }
   ],
   "source": [
    "binary_lr_pred = binary_lr_model.predict(X_test)\n",
    "binary_lr_train_pred = binary_lr_model.predict(X_train)\n",
    "\n",
    "cr = classification_report(y_test_binary, binary_lr_pred)\n",
    "cm = confusion_matrix(y_test_binary, binary_lr_pred)\n",
    "print(cr)\n",
    "plot_confusion_matrix(cm)"
   ]
  },
  {
   "cell_type": "code",
   "execution_count": 475,
   "id": "33457858",
   "metadata": {},
   "outputs": [
    {
     "data": {
      "image/png": "[encoded data removed]",
      "text/plain": [
       "<Figure size 720x504 with 1 Axes>"
      ]
     },
     "metadata": {
      "needs_background": "light"
     },
     "output_type": "display_data"
    }
   ],
   "source": [
    "plot_roc_curve(y_test_binary, binary_lr_pred, y_train_binary, binary_lr_train_pred)"
   ]
  },
  {
   "cell_type": "code",
   "execution_count": 477,
   "id": "7084680a",
   "metadata": {},
   "outputs": [
    {
     "data": {
      "image/png": "[encoded data removed]",
      "text/plain": [
       "<Figure size 720x504 with 1 Axes>"
      ]
     },
     "metadata": {
      "needs_background": "light"
     },
     "output_type": "display_data"
    }
   ],
   "source": [
    "plot_precision_recall_curve(y_test_binary, y_pred_binary)"
   ]
  },
  {
   "cell_type": "markdown",
   "id": "3b3ce242",
   "metadata": {},
   "source": [
    "### Random Forest Binary Classifier"
   ]
  },
  {
   "cell_type": "code",
   "execution_count": 433,
   "id": "188fb19b",
   "metadata": {},
   "outputs": [],
   "source": [
    "# defining the model\n",
    "rf_model = RandomForestClassifier(random_state=0, verbose=2)\n",
    "\n",
    "# defining the parameter grid\n",
    "# hyperparameters tuned: number of trees, tree max depth, minimum samples on leaves, whether or not to balance classes using weights\n",
    "rf_params = {'n_estimators': [100,250,500],\n",
    "             'max_depth': [2,5,8], \n",
    "             'min_samples_leaf': [1,3,5], \n",
    "             'class_weight': [None,'balanced']}\n",
    "\n",
    "# randomized search cross validation\n",
    "rf_clf = RandomizedSearchCV(rf_model, rf_params, n_iter=10, random_state=0, n_jobs=3, verbose=2)"
   ]
  },
  {
   "cell_type": "code",
   "execution_count": null,
   "id": "cbfbc8dd",
   "metadata": {},
   "outputs": [],
   "source": [
    "# training the model\n",
    "rf_clf.fit(X_train, y_train_binary)"
   ]
  },
  {
   "cell_type": "code",
   "execution_count": 491,
   "id": "8f1c83c4",
   "metadata": {},
   "outputs": [],
   "source": [
    "# saving the model\n",
    "dump(rf_clf, '../models/binary_rf_clf.joblib');"
   ]
  },
  {
   "cell_type": "markdown",
   "id": "21490095",
   "metadata": {},
   "source": [
    "#### Random Forest predictions and metrics"
   ]
  },
  {
   "cell_type": "code",
   "execution_count": 476,
   "id": "c6118ca3",
   "metadata": {},
   "outputs": [
    {
     "name": "stderr",
     "output_type": "stream",
     "text": [
      "[Parallel(n_jobs=1)]: Using backend SequentialBackend with 1 concurrent workers.\n",
      "[Parallel(n_jobs=1)]: Done   1 out of   1 | elapsed:    0.0s remaining:    0.0s\n",
      "[Parallel(n_jobs=1)]: Done   2 out of   2 | elapsed:    0.0s remaining:    0.0s\n",
      "[Parallel(n_jobs=1)]: Done 500 out of 500 | elapsed:    3.5s finished\n",
      "[Parallel(n_jobs=1)]: Using backend SequentialBackend with 1 concurrent workers.\n",
      "[Parallel(n_jobs=1)]: Done   1 out of   1 | elapsed:    0.0s remaining:    0.0s\n",
      "[Parallel(n_jobs=1)]: Done   2 out of   2 | elapsed:    0.0s remaining:    0.0s\n",
      "[Parallel(n_jobs=1)]: Done 500 out of 500 | elapsed:   14.0s finished\n"
     ]
    },
    {
     "name": "stdout",
     "output_type": "stream",
     "text": [
      "              precision    recall  f1-score   support\n",
      "\n",
      "       False       0.67      0.94      0.78     26325\n",
      "        True       0.60      0.17      0.26     14416\n",
      "\n",
      "    accuracy                           0.67     40741\n",
      "   macro avg       0.64      0.55      0.52     40741\n",
      "weighted avg       0.65      0.67      0.60     40741\n",
      "\n"
     ]
    },
    {
     "data": {
      "image/png": "[encoded data removed]",
      "text/plain": [
       "<Figure size 360x360 with 1 Axes>"
      ]
     },
     "metadata": {
      "needs_background": "light"
     },
     "output_type": "display_data"
    }
   ],
   "source": [
    "binary_rf_pred = rf_clf.predict(X_test)\n",
    "binary_rf_train_pred = rf_clf.predict(X_train)\n",
    "\n",
    "cr = classification_report(y_test_binary, binary_rf_pred)\n",
    "cm = confusion_matrix(y_test_binary, binary_rf_pred)\n",
    "print(cr)\n",
    "plot_confusion_matrix(cm)"
   ]
  },
  {
   "cell_type": "code",
   "execution_count": 478,
   "id": "37840481",
   "metadata": {},
   "outputs": [
    {
     "data": {
      "image/png": "[encoded data removed]",
      "text/plain": [
       "<Figure size 720x504 with 1 Axes>"
      ]
     },
     "metadata": {
      "needs_background": "light"
     },
     "output_type": "display_data"
    }
   ],
   "source": [
    "plot_roc_curve(y_test_binary, binary_rf_pred, y_train_binary, binary_rf_train_pred)"
   ]
  },
  {
   "cell_type": "code",
   "execution_count": 480,
   "id": "e410aa64",
   "metadata": {},
   "outputs": [
    {
     "data": {
      "image/png": "[encoded data removed]",
      "text/plain": [
       "<Figure size 720x504 with 1 Axes>"
      ]
     },
     "metadata": {
      "needs_background": "light"
     },
     "output_type": "display_data"
    }
   ],
   "source": [
    "plot_precision_recall_curve(y_test_binary, binary_rf_pred)"
   ]
  },
  {
   "cell_type": "markdown",
   "id": "a915147d",
   "metadata": {},
   "source": [
    "### Ordinal Regression model\n",
    "We'll use the package mord to create our model, and perform a grid search to find the right regularization parameter"
   ]
  },
  {
   "cell_type": "code",
   "execution_count": 455,
   "id": "ce0c6807",
   "metadata": {},
   "outputs": [],
   "source": [
    "from mord import LogisticIT\n",
    "\n",
    "# defining the model\n",
    "olr_model = LogisticIT(max_iter=1000, verbose=2)\n",
    "\n",
    "# defining the hyperparameter space\n",
    "# hyperparameters tuned: alpha (regularization parameter)\n",
    "olr_params = {'alpha': [0, 0.5, 1, 2, 5]}\n",
    "grid_search = {k: v for (k, v) in olr_params.items()}\n",
    "olr_clf = GridSearchCV(olr_model, olr_params, verbose=2)"
   ]
  },
  {
   "cell_type": "code",
   "execution_count": 456,
   "id": "fafd83ff",
   "metadata": {},
   "outputs": [
    {
     "name": "stdout",
     "output_type": "stream",
     "text": [
      "Fitting 5 folds for each of 5 candidates, totalling 25 fits\n",
      "[CV] END ............................................alpha=0; total time=   3.7s\n",
      "[CV] END ............................................alpha=0; total time=   2.8s\n",
      "[CV] END ............................................alpha=0; total time=   2.7s\n",
      "[CV] END ............................................alpha=0; total time=   2.2s\n",
      "[CV] END ............................................alpha=0; total time=   2.7s\n",
      "[CV] END ..........................................alpha=0.5; total time=   3.2s\n",
      "[CV] END ..........................................alpha=0.5; total time=   2.9s\n",
      "[CV] END ..........................................alpha=0.5; total time=   2.4s\n",
      "[CV] END ..........................................alpha=0.5; total time=   7.8s\n",
      "[CV] END ..........................................alpha=0.5; total time=   6.5s\n",
      "[CV] END ............................................alpha=1; total time=   8.9s\n",
      "[CV] END ............................................alpha=1; total time=   5.7s\n",
      "[CV] END ............................................alpha=1; total time=   4.3s\n",
      "[CV] END ............................................alpha=1; total time=   2.6s\n",
      "[CV] END ............................................alpha=1; total time=   3.5s\n",
      "[CV] END ............................................alpha=2; total time=   3.3s\n",
      "[CV] END ............................................alpha=2; total time=   2.7s\n",
      "[CV] END ............................................alpha=2; total time=   3.4s\n",
      "[CV] END ............................................alpha=2; total time=   3.0s\n",
      "[CV] END ............................................alpha=2; total time=   3.7s\n",
      "[CV] END ............................................alpha=5; total time=   6.4s\n",
      "[CV] END ............................................alpha=5; total time=   3.2s\n",
      "[CV] END ............................................alpha=5; total time=   2.7s\n",
      "[CV] END ............................................alpha=5; total time=   3.8s\n",
      "[CV] END ............................................alpha=5; total time=   3.5s\n"
     ]
    },
    {
     "data": {
      "text/html": [
       "<style>#sk-container-id-10 {color: black;background-color: white;}#sk-container-id-10 pre{padding: 0;}#sk-container-id-10 div.sk-toggleable {background-color: white;}#sk-container-id-10 label.sk-toggleable__label {cursor: pointer;display: block;width: 100%;margin-bottom: 0;padding: 0.3em;box-sizing: border-box;text-align: center;}#sk-container-id-10 label.sk-toggleable__label-arrow:before {content: \"▸\";float: left;margin-right: 0.25em;color: #696969;}#sk-container-id-10 label.sk-toggleable__label-arrow:hover:before {color: black;}#sk-container-id-10 div.sk-estimator:hover label.sk-toggleable__label-arrow:before {color: black;}#sk-container-id-10 div.sk-toggleable__content {max-height: 0;max-width: 0;overflow: hidden;text-align: left;background-color: #f0f8ff;}#sk-container-id-10 div.sk-toggleable__content pre {margin: 0.2em;color: black;border-radius: 0.25em;background-color: #f0f8ff;}#sk-container-id-10 input.sk-toggleable__control:checked~div.sk-toggleable__content {max-height: 200px;max-width: 100%;overflow: auto;}#sk-container-id-10 input.sk-toggleable__control:checked~label.sk-toggleable__label-arrow:before {content: \"▾\";}#sk-container-id-10 div.sk-estimator input.sk-toggleable__control:checked~label.sk-toggleable__label {background-color: #d4ebff;}#sk-container-id-10 div.sk-label input.sk-toggleable__control:checked~label.sk-toggleable__label {background-color: #d4ebff;}#sk-container-id-10 input.sk-hidden--visually {border: 0;clip: rect(1px 1px 1px 1px);clip: rect(1px, 1px, 1px, 1px);height: 1px;margin: -1px;overflow: hidden;padding: 0;position: absolute;width: 1px;}#sk-container-id-10 div.sk-estimator {font-family: monospace;background-color: #f0f8ff;border: 1px dotted black;border-radius: 0.25em;box-sizing: border-box;margin-bottom: 0.5em;}#sk-container-id-10 div.sk-estimator:hover {background-color: #d4ebff;}#sk-container-id-10 div.sk-parallel-item::after {content: \"\";width: 100%;border-bottom: 1px solid gray;flex-grow: 1;}#sk-container-id-10 div.sk-label:hover label.sk-toggleable__label {background-color: #d4ebff;}#sk-container-id-10 div.sk-serial::before {content: \"\";position: absolute;border-left: 1px solid gray;box-sizing: border-box;top: 0;bottom: 0;left: 50%;z-index: 0;}#sk-container-id-10 div.sk-serial {display: flex;flex-direction: column;align-items: center;background-color: white;padding-right: 0.2em;padding-left: 0.2em;position: relative;}#sk-container-id-10 div.sk-item {position: relative;z-index: 1;}#sk-container-id-10 div.sk-parallel {display: flex;align-items: stretch;justify-content: center;background-color: white;position: relative;}#sk-container-id-10 div.sk-item::before, #sk-container-id-10 div.sk-parallel-item::before {content: \"\";position: absolute;border-left: 1px solid gray;box-sizing: border-box;top: 0;bottom: 0;left: 50%;z-index: -1;}#sk-container-id-10 div.sk-parallel-item {display: flex;flex-direction: column;z-index: 1;position: relative;background-color: white;}#sk-container-id-10 div.sk-parallel-item:first-child::after {align-self: flex-end;width: 50%;}#sk-container-id-10 div.sk-parallel-item:last-child::after {align-self: flex-start;width: 50%;}#sk-container-id-10 div.sk-parallel-item:only-child::after {width: 0;}#sk-container-id-10 div.sk-dashed-wrapped {border: 1px dashed gray;margin: 0 0.4em 0.5em 0.4em;box-sizing: border-box;padding-bottom: 0.4em;background-color: white;}#sk-container-id-10 div.sk-label label {font-family: monospace;font-weight: bold;display: inline-block;line-height: 1.2em;}#sk-container-id-10 div.sk-label-container {text-align: center;}#sk-container-id-10 div.sk-container {/* jupyter's `normalize.less` sets `[hidden] { display: none; }` but bootstrap.min.css set `[hidden] { display: none !important; }` so we also need the `!important` here to be able to override the default hidden behavior on the sphinx rendered scikit-learn.org. See: https://github.com/scikit-learn/scikit-learn/issues/21755 */display: inline-block !important;position: relative;}#sk-container-id-10 div.sk-text-repr-fallback {display: none;}</style><div id=\"sk-container-id-10\" class=\"sk-top-container\"><div class=\"sk-text-repr-fallback\"><pre>GridSearchCV(estimator=LogisticIT(verbose=2),\n",
       "             param_grid={&#x27;alpha&#x27;: [0, 0.5, 1, 2, 5]}, verbose=2)</pre><b>In a Jupyter environment, please rerun this cell to show the HTML representation or trust the notebook. <br />On GitHub, the HTML representation is unable to render, please try loading this page with nbviewer.org.</b></div><div class=\"sk-container\" hidden><div class=\"sk-item sk-dashed-wrapped\"><div class=\"sk-label-container\"><div class=\"sk-label sk-toggleable\"><input class=\"sk-toggleable__control sk-hidden--visually\" id=\"sk-estimator-id-22\" type=\"checkbox\" ><label for=\"sk-estimator-id-22\" class=\"sk-toggleable__label sk-toggleable__label-arrow\">GridSearchCV</label><div class=\"sk-toggleable__content\"><pre>GridSearchCV(estimator=LogisticIT(verbose=2),\n",
       "             param_grid={&#x27;alpha&#x27;: [0, 0.5, 1, 2, 5]}, verbose=2)</pre></div></div></div><div class=\"sk-parallel\"><div class=\"sk-parallel-item\"><div class=\"sk-item\"><div class=\"sk-label-container\"><div class=\"sk-label sk-toggleable\"><input class=\"sk-toggleable__control sk-hidden--visually\" id=\"sk-estimator-id-23\" type=\"checkbox\" ><label for=\"sk-estimator-id-23\" class=\"sk-toggleable__label sk-toggleable__label-arrow\">estimator: LogisticIT</label><div class=\"sk-toggleable__content\"><pre>LogisticIT(verbose=2)</pre></div></div></div><div class=\"sk-serial\"><div class=\"sk-item\"><div class=\"sk-estimator sk-toggleable\"><input class=\"sk-toggleable__control sk-hidden--visually\" id=\"sk-estimator-id-24\" type=\"checkbox\" ><label for=\"sk-estimator-id-24\" class=\"sk-toggleable__label sk-toggleable__label-arrow\">LogisticIT</label><div class=\"sk-toggleable__content\"><pre>LogisticIT(verbose=2)</pre></div></div></div></div></div></div></div></div></div></div>"
      ],
      "text/plain": [
       "GridSearchCV(estimator=LogisticIT(verbose=2),\n",
       "             param_grid={'alpha': [0, 0.5, 1, 2, 5]}, verbose=2)"
      ]
     },
     "execution_count": 456,
     "metadata": {},
     "output_type": "execute_result"
    }
   ],
   "source": [
    "# training the model\n",
    "olr_clf.fit(X_train, y_train)"
   ]
  },
  {
   "cell_type": "code",
   "execution_count": 490,
   "id": "661f99da",
   "metadata": {},
   "outputs": [],
   "source": [
    "# saving the model\n",
    "dump(olr_clf, '../models/ordinal_lr_clf.joblib');"
   ]
  },
  {
   "cell_type": "markdown",
   "id": "4340135a",
   "metadata": {},
   "source": [
    "#### Ordinal Regression predictions and metrics"
   ]
  },
  {
   "cell_type": "code",
   "execution_count": 482,
   "id": "c26fa70b",
   "metadata": {},
   "outputs": [
    {
     "name": "stdout",
     "output_type": "stream",
     "text": [
      "              precision    recall  f1-score   support\n",
      "\n",
      "           0       0.50      0.00      0.00       749\n",
      "           1       0.51      0.24      0.32     13667\n",
      "           2       0.69      0.90      0.78     26325\n",
      "\n",
      "    accuracy                           0.66     40741\n",
      "   macro avg       0.57      0.38      0.37     40741\n",
      "weighted avg       0.62      0.66      0.61     40741\n",
      "\n"
     ]
    },
    {
     "data": {
      "image/png": "[encoded data removed]",
      "text/plain": [
       "<Figure size 360x360 with 1 Axes>"
      ]
     },
     "metadata": {
      "needs_background": "light"
     },
     "output_type": "display_data"
    }
   ],
   "source": [
    "olr_pred = olr_clf.predict(X_test)\n",
    "cr = classification_report(y_test, olr_pred)\n",
    "cm = confusion_matrix(y_test, olr_pred)\n",
    "\n",
    "print(cr)\n",
    "plot_confusion_matrix(cm)"
   ]
  },
  {
   "cell_type": "code",
   "execution_count": 485,
   "id": "1e0fb234",
   "metadata": {},
   "outputs": [
    {
     "name": "stdout",
     "output_type": "stream",
     "text": [
      "              precision    recall  f1-score   support\n",
      "\n",
      "           0       0.17      0.00      0.00      2958\n",
      "           1       0.52      0.24      0.33     54769\n",
      "           2       0.69      0.90      0.78    105236\n",
      "\n",
      "    accuracy                           0.66    162963\n",
      "   macro avg       0.46      0.38      0.37    162963\n",
      "weighted avg       0.62      0.66      0.61    162963\n",
      "\n"
     ]
    },
    {
     "data": {
      "image/png": "[encoded data removed]",
      "text/plain": [
       "<Figure size 360x360 with 1 Axes>"
      ]
     },
     "metadata": {
      "needs_background": "light"
     },
     "output_type": "display_data"
    }
   ],
   "source": [
    "olr_train_pred = olr_clf.predict(X_train)\n",
    "cr = classification_report(y_train, olr_train_pred)\n",
    "cm = confusion_matrix(y_train, olr_train_pred)\n",
    "\n",
    "print(cr)\n",
    "plot_confusion_matrix(cm)"
   ]
  },
  {
   "cell_type": "markdown",
   "id": "9f6e558d",
   "metadata": {},
   "source": [
    "## Conclusions\n",
    "- On balance, our best performing model was binary linear regression. It had inferior accuracy to the random forest model but decent precision, recall and f1 across the board\n",
    "- The ordinal regression model had a far harder task, and indeed fell short in that it couldn't predict almost any of the fatal accidents\n",
    "- At least we don't have an overfitting problem. Performance metrics for the train and test set are quite similar with all models.\n",
    "\n",
    "### Avenues to improve the performance\n",
    "Here are some ways we can improve the models we have\n",
    "1. Create more features. We only used a fraction of the data we have available to us.\n",
    "2. Use more aggressive dimensionality reduction, since if we add more features our training data will become even more sparse\n",
    "3. Employ a feature selection algorithm\n",
    "4. Widen the hyperparameter search, especially for random forest\n",
    "5. Try other algorithms, such as GBT or neural networks"
   ]
  }
 ],
 "metadata": {
  "kernelspec": {
   "display_name": "enea_kernel",
   "language": "python",
   "name": "enea_kernel"
  },
  "language_info": {
   "codemirror_mode": {
    "name": "ipython",
    "version": 3
   },
   "file_extension": ".py",
   "mimetype": "text/x-python",
   "name": "python",
   "nbconvert_exporter": "python",
   "pygments_lexer": "ipython3",
   "version": "3.10.4"
  }
 },
 "nbformat": 4,
 "nbformat_minor": 5
}
